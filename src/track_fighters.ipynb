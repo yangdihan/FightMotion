{
 "cells": [
  {
   "cell_type": "code",
   "execution_count": 6,
   "metadata": {},
   "outputs": [],
   "source": [
    "import os\n",
    "import gc\n",
    "from tqdm import tqdm\n",
    "\n",
    "import numpy as np\n",
    "\n",
    "import cv2\n",
    "import torch\n",
    "from sam2.build_sam import build_sam2_video_predictor\n",
    "from sam2.utils.misc import load_video_frames\n",
    "\n",
    "DIR_RAW = \"D:/Documents/devs/fight_motion/data/raw\"\n",
    "DIR_INT = \"D:/Documents/devs/fight_motion/data/interim\"\n",
    "DIR_SAM = \"D:/Documents/devs/fight_motion/sam2-main\"\n"
   ]
  },
  {
   "cell_type": "code",
   "execution_count": 2,
   "metadata": {},
   "outputs": [],
   "source": [
    "if torch.cuda.is_available():\n",
    "    device = torch.device(\"cuda\")\n",
    "else:\n",
    "    device = torch.device(\"cpu\")\n",
    "\n",
    "# Define colors for the masks\n",
    "colors = [(255, 0, 0), (0, 0, 255)]  # Red and Blue"
   ]
  },
  {
   "cell_type": "code",
   "execution_count": 3,
   "metadata": {},
   "outputs": [],
   "source": [
    "# Load prompts from the text file\n",
    "def load_prompts(txt_path):\n",
    "    with open(txt_path, 'r') as f:\n",
    "        lines = f.readlines()\n",
    "    # The first line indicates the frame index\n",
    "    frame_idx = int(lines[0].strip())\n",
    "    # The second line contains the bounding boxes\n",
    "    bbox_line = lines[1].strip()\n",
    "    # Parse the bounding boxes\n",
    "    bbox_list = eval(bbox_line)  # Use eval to convert string representation to list of tuples\n",
    "    return frame_idx, bbox_list"
   ]
  },
  {
   "cell_type": "code",
   "execution_count": 11,
   "metadata": {},
   "outputs": [],
   "source": [
    "def extract_fighter_masks(video_path, txt_path, output_video_path):\n",
    "    # Load the model\n",
    "    # checkpoint = os.path.join(DIR_SAM, \"checkpoints/sam2.1_hiera_small.pt\")\n",
    "    # model_cfg = os.path.join(DIR_SAM, \"sam2/configs/sam2.1/sam2.1_hiera_s.yaml\")\n",
    "    checkpoint = os.path.join(DIR_SAM, \"checkpoints/sam2.1_hiera_large.pt\")\n",
    "    model_cfg = os.path.join(DIR_SAM, \"sam2/configs/sam2.1/sam2.1_hiera_l.yaml\")\n",
    "    predictor = build_sam2_video_predictor(model_cfg, checkpoint, device=device)\n",
    "\n",
    "    # Initialize the inference state\n",
    "    # video_path = os.path.join(DIR_RAW, \"aldo_holloway_1.mp4\")\n",
    "    state = predictor.init_state(video_path, offload_video_to_cpu=True)\n",
    "\n",
    "    # txt_path = os.path.join(DIR_INT, \"aldo_holloway_1.txt\")\n",
    "    frame0, prompts = load_prompts(txt_path)\n",
    "\n",
    "    # Open video for reading and writing\n",
    "    cap = cv2.VideoCapture(video_path)\n",
    "    frame_rate = cap.get(cv2.CAP_PROP_FPS)\n",
    "    loaded_frames = []\n",
    "    while True:\n",
    "        ret, frame = cap.read()\n",
    "        if not ret:\n",
    "            break\n",
    "        loaded_frames.append(frame)\n",
    "    cap.release()\n",
    "\n",
    "    height, width = loaded_frames[0].shape[:2]\n",
    "    fourcc = cv2.VideoWriter_fourcc(*\"mp4v\")\n",
    "    # output_video_path = os.path.join(DIR_INT, \"aldo_holloway_1_masks.mp4\")\n",
    "    out = cv2.VideoWriter(output_video_path, fourcc, frame_rate, (width, height))\n",
    "\n",
    "    # Initialize mask storage for both fighters\n",
    "    fighter_masks = ([], [])\n",
    "\n",
    "    # Add prompts and start tracking\n",
    "    with torch.inference_mode(), torch.autocast(\"cuda\", dtype=torch.float16):\n",
    "        for obj_id, bbox in enumerate(prompts):\n",
    "            _, _, _ = predictor.add_new_points_or_box(state, frame_idx=frame0, obj_id=obj_id, box=bbox)\n",
    "\n",
    "        # Propagate the prompts to track throughout the video\n",
    "        for frame_idx, object_ids, masks in tqdm(predictor.propagate_in_video(state)):\n",
    "            for obj_id, mask in zip(object_ids, masks):\n",
    "                mask = mask[0].cpu().numpy()\n",
    "                mask = mask > 0.0\n",
    "                fighter_masks[obj_id].append(mask)\n",
    "\n",
    "        # Overlay masks on the original video\n",
    "        for frame_idx in tqdm(range(frame0, len(loaded_frames))):\n",
    "            img = loaded_frames[frame_idx].copy()\n",
    "            for obj_id, masks in enumerate(fighter_masks):\n",
    "                # if frame_idx < len(masks):\n",
    "                mask = masks[frame_idx-frame0]\n",
    "                mask_img = np.zeros((height, width, 3), np.uint8)\n",
    "                mask_img[mask] = colors[obj_id]\n",
    "                img = cv2.addWeighted(img, 1, mask_img, 0.5, 0)  # Adjust opacity as needed\n",
    "\n",
    "            out.write(img)\n",
    "\n",
    "    out.release()\n",
    "\n",
    "    del predictor, state\n",
    "    gc.collect()\n",
    "    torch.clear_autocast_cache()\n",
    "    torch.cuda.empty_cache()"
   ]
  },
  {
   "cell_type": "code",
   "execution_count": null,
   "metadata": {},
   "outputs": [],
   "source": [
    "for video_name in os.listdir(DIR_RAW):\n",
    "    if video_name.endswith(\".mp4\") and video_name=='cerrone_story_4.mp4':\n",
    "        txt_path = os.path.join(DIR_INT, video_name.replace(\".mp4\", \".txt\"))\n",
    "        video_path = os.path.join(DIR_RAW, video_name)\n",
    "        output_video_path = os.path.join(\n",
    "            DIR_INT, video_name.replace(\".mp4\", \"_masks.mp4\")\n",
    "        )\n",
    "        print(\"extracting fighter masks for\", video_name)\n",
    "        extract_fighter_masks(video_path, txt_path, output_video_path)"
   ]
  },
  {
   "cell_type": "code",
   "execution_count": null,
   "metadata": {},
   "outputs": [],
   "source": []
  }
 ],
 "metadata": {
  "kernelspec": {
   "display_name": "Python (venv_sam2)",
   "language": "python",
   "name": "venv_sam2"
  },
  "language_info": {
   "codemirror_mode": {
    "name": "ipython",
    "version": 3
   },
   "file_extension": ".py",
   "mimetype": "text/x-python",
   "name": "python",
   "nbconvert_exporter": "python",
   "pygments_lexer": "ipython3",
   "version": "3.10.6"
  }
 },
 "nbformat": 4,
 "nbformat_minor": 2
}
